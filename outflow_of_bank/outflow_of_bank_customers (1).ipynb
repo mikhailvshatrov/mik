{
 "cells": [
  {
   "cell_type": "markdown",
   "metadata": {},
   "source": [
    "# Отток клиентов"
   ]
  },
  {
   "cell_type": "markdown",
   "metadata": {},
   "source": [
    "Из банка стали уходить клиенты. Каждый месяц. Немного, но заметно. Банковские маркетологи посчитали: сохранять текущих клиентов дешевле, чем привлекать новых.\n",
    "\n",
    "Нужно спрогнозировать, уйдёт клиент из банка в ближайшее время или нет. Вам предоставлены исторические данные о поведении клиентов и расторжении договоров с банком. \n",
    "\n",
    "Источник данных: [https://www.kaggle.com/barelydedicated/bank-customer-churn-modeling](https://www.kaggle.com/barelydedicated/bank-customer-churn-modeling)"
   ]
  },
  {
   "cell_type": "markdown",
   "metadata": {},
   "source": [
    " Признаки\n",
    "  * RowNumber — индекс строки в данных\n",
    "  * CustomerId — уникальный идентификатор клиента\n",
    "  * Surname — фамилия\n",
    "  * CreditScore — кредитный рейтинг\n",
    "  * Geography — страна проживания\n",
    "  * Gender — пол\n",
    "  * Age — возраст\n",
    "  * Tenure — количество недвижимости у клиента\n",
    "  * Balance — баланс на счёте\n",
    "  * NumOfProducts — количество продуктов банка, используемых клиентом\n",
    "  * HasCrCard — наличие кредитной карты\n",
    "  * IsActiveMember — активность клиента\n",
    "  * EstimatedSalary — предполагаемая зарплата\n",
    "\n",
    "Целевой признак\n",
    "  * Exited — факт ухода клиента\n",
    "  \n",
    "В ходе работы проведем:\n",
    "\n",
    "* подготовку данных \n",
    "* разбивку данных на выборки.\n",
    "* исследование баланса данных.\n",
    "* обучение модели без учета баланса.\n",
    "* улучшение моделей с учетом баланса моделей.\n",
    "* финальное тестирование модели."
   ]
  },
  {
   "cell_type": "markdown",
   "metadata": {},
   "source": [
    "## Подготовка данных"
   ]
  },
  {
   "cell_type": "code",
   "execution_count": 1,
   "metadata": {},
   "outputs": [],
   "source": [
    "import pandas as pd\n",
    "import numpy as np\n",
    "import warnings\n",
    "import matplotlib.pyplot as plt\n",
    "from scipy import stats\n",
    "\n",
    "from sklearn.metrics import matthews_corrcoef\n",
    "from sklearn.metrics import precision_score\n",
    "from sklearn.metrics import recall_score\n",
    "from sklearn.metrics import accuracy_score\n",
    "from sklearn.metrics import f1_score\n",
    "\n",
    "from sklearn.tree import DecisionTreeClassifier\n",
    "from sklearn.ensemble import RandomForestClassifier\n",
    "from sklearn.linear_model import LogisticRegression\n",
    "from sklearn.dummy import DummyClassifier\n",
    "from sklearn.utils import shuffle\n",
    "from sklearn.metrics import roc_auc_score\n",
    "\n",
    "from sklearn.model_selection import train_test_split\n",
    "\n",
    "from sklearn.preprocessing import StandardScaler"
   ]
  },
  {
   "cell_type": "code",
   "execution_count": 2,
   "metadata": {},
   "outputs": [
    {
     "data": {
      "text/html": [
       "<div>\n",
       "<style scoped>\n",
       "    .dataframe tbody tr th:only-of-type {\n",
       "        vertical-align: middle;\n",
       "    }\n",
       "\n",
       "    .dataframe tbody tr th {\n",
       "        vertical-align: top;\n",
       "    }\n",
       "\n",
       "    .dataframe thead th {\n",
       "        text-align: right;\n",
       "    }\n",
       "</style>\n",
       "<table border=\"1\" class=\"dataframe\">\n",
       "  <thead>\n",
       "    <tr style=\"text-align: right;\">\n",
       "      <th></th>\n",
       "      <th>RowNumber</th>\n",
       "      <th>CustomerId</th>\n",
       "      <th>Surname</th>\n",
       "      <th>CreditScore</th>\n",
       "      <th>Geography</th>\n",
       "      <th>Gender</th>\n",
       "      <th>Age</th>\n",
       "      <th>Tenure</th>\n",
       "      <th>Balance</th>\n",
       "      <th>NumOfProducts</th>\n",
       "      <th>HasCrCard</th>\n",
       "      <th>IsActiveMember</th>\n",
       "      <th>EstimatedSalary</th>\n",
       "      <th>Exited</th>\n",
       "    </tr>\n",
       "  </thead>\n",
       "  <tbody>\n",
       "    <tr>\n",
       "      <th>0</th>\n",
       "      <td>1</td>\n",
       "      <td>15634602</td>\n",
       "      <td>Hargrave</td>\n",
       "      <td>619</td>\n",
       "      <td>France</td>\n",
       "      <td>Female</td>\n",
       "      <td>42</td>\n",
       "      <td>2.0</td>\n",
       "      <td>0.0</td>\n",
       "      <td>1</td>\n",
       "      <td>1</td>\n",
       "      <td>1</td>\n",
       "      <td>101348.88</td>\n",
       "      <td>1</td>\n",
       "    </tr>\n",
       "    <tr>\n",
       "      <th>1</th>\n",
       "      <td>2</td>\n",
       "      <td>15647311</td>\n",
       "      <td>Hill</td>\n",
       "      <td>608</td>\n",
       "      <td>Spain</td>\n",
       "      <td>Female</td>\n",
       "      <td>41</td>\n",
       "      <td>1.0</td>\n",
       "      <td>83807.86</td>\n",
       "      <td>1</td>\n",
       "      <td>0</td>\n",
       "      <td>1</td>\n",
       "      <td>112542.58</td>\n",
       "      <td>0</td>\n",
       "    </tr>\n",
       "    <tr>\n",
       "      <th>2</th>\n",
       "      <td>3</td>\n",
       "      <td>15619304</td>\n",
       "      <td>Onio</td>\n",
       "      <td>502</td>\n",
       "      <td>France</td>\n",
       "      <td>Female</td>\n",
       "      <td>42</td>\n",
       "      <td>8.0</td>\n",
       "      <td>159660.8</td>\n",
       "      <td>3</td>\n",
       "      <td>1</td>\n",
       "      <td>0</td>\n",
       "      <td>113931.57</td>\n",
       "      <td>1</td>\n",
       "    </tr>\n",
       "    <tr>\n",
       "      <th>3</th>\n",
       "      <td>4</td>\n",
       "      <td>15701354</td>\n",
       "      <td>Boni</td>\n",
       "      <td>699</td>\n",
       "      <td>France</td>\n",
       "      <td>Female</td>\n",
       "      <td>39</td>\n",
       "      <td>1.0</td>\n",
       "      <td>0.0</td>\n",
       "      <td>2</td>\n",
       "      <td>0</td>\n",
       "      <td>0</td>\n",
       "      <td>93826.63</td>\n",
       "      <td>0</td>\n",
       "    </tr>\n",
       "    <tr>\n",
       "      <th>4</th>\n",
       "      <td>5</td>\n",
       "      <td>15737888</td>\n",
       "      <td>Mitchell</td>\n",
       "      <td>850</td>\n",
       "      <td>Spain</td>\n",
       "      <td>Female</td>\n",
       "      <td>43</td>\n",
       "      <td>2.0</td>\n",
       "      <td>125510.82</td>\n",
       "      <td>1</td>\n",
       "      <td>1</td>\n",
       "      <td>1</td>\n",
       "      <td>79084.1</td>\n",
       "      <td>0</td>\n",
       "    </tr>\n",
       "  </tbody>\n",
       "</table>\n",
       "</div>"
      ],
      "text/plain": [
       "   RowNumber  CustomerId   Surname  CreditScore Geography  Gender  Age Tenure  \\\n",
       "0          1    15634602  Hargrave          619    France  Female   42    2.0   \n",
       "1          2    15647311      Hill          608     Spain  Female   41    1.0   \n",
       "2          3    15619304      Onio          502    France  Female   42    8.0   \n",
       "3          4    15701354      Boni          699    France  Female   39    1.0   \n",
       "4          5    15737888  Mitchell          850     Spain  Female   43    2.0   \n",
       "\n",
       "     Balance  NumOfProducts  HasCrCard  IsActiveMember EstimatedSalary  Exited  \n",
       "0        0.0              1          1               1       101348.88       1  \n",
       "1   83807.86              1          0               1       112542.58       0  \n",
       "2   159660.8              3          1               0       113931.57       1  \n",
       "3        0.0              2          0               0        93826.63       0  \n",
       "4  125510.82              1          1               1         79084.1       0  "
      ]
     },
     "execution_count": 2,
     "metadata": {},
     "output_type": "execute_result"
    }
   ],
   "source": [
    "data= pd.read_csv(r'C:\\Users\\mind2\\Downloads\\Churn.csv', sep=',' , decimal=',') \n",
    "data.head()"
   ]
  },
  {
   "cell_type": "code",
   "execution_count": 3,
   "metadata": {},
   "outputs": [
    {
     "data": {
      "text/plain": [
       "RowNumber           int64\n",
       "CustomerId          int64\n",
       "Surname            object\n",
       "CreditScore         int64\n",
       "Geography          object\n",
       "Gender             object\n",
       "Age                 int64\n",
       "Tenure             object\n",
       "Balance            object\n",
       "NumOfProducts       int64\n",
       "HasCrCard           int64\n",
       "IsActiveMember      int64\n",
       "EstimatedSalary    object\n",
       "Exited              int64\n",
       "dtype: object"
      ]
     },
     "execution_count": 3,
     "metadata": {},
     "output_type": "execute_result"
    }
   ],
   "source": [
    "data.dtypes"
   ]
  },
  {
   "cell_type": "code",
   "execution_count": 4,
   "metadata": {},
   "outputs": [
    {
     "data": {
      "text/plain": [
       "(10000, 14)"
      ]
     },
     "execution_count": 4,
     "metadata": {},
     "output_type": "execute_result"
    }
   ],
   "source": [
    "data.shape"
   ]
  },
  {
   "cell_type": "markdown",
   "metadata": {},
   "source": [
    "Для избежания коллинеарности в данных уберем столбцы 'RowNumber' и 'CustomerId'. Также столбец 'Surname' не является признаком для определения целевого признака. "
   ]
  },
  {
   "cell_type": "code",
   "execution_count": 5,
   "metadata": {},
   "outputs": [
    {
     "data": {
      "text/plain": [
       "creditscore         int64\n",
       "geography          object\n",
       "gender             object\n",
       "age                 int64\n",
       "tenure             object\n",
       "balance            object\n",
       "numofproducts       int64\n",
       "hascrcard           int64\n",
       "isactivemember      int64\n",
       "estimatedsalary    object\n",
       "exited              int64\n",
       "dtype: object"
      ]
     },
     "execution_count": 5,
     "metadata": {},
     "output_type": "execute_result"
    }
   ],
   "source": [
    "data = data.drop(['Surname', 'RowNumber', 'CustomerId'], axis=1)\n",
    "data.columns = data.columns.str.lower()\n",
    "data.dtypes"
   ]
  },
  {
   "cell_type": "code",
   "execution_count": 6,
   "metadata": {},
   "outputs": [
    {
     "data": {
      "text/plain": [
       "1.0     952\n",
       "2.0     950\n",
       "8.0     933\n",
       "3.0     928\n",
       "5.0     927\n",
       "7.0     925\n",
       "4.0     885\n",
       "9.0     882\n",
       "6.0     881\n",
       "10.0    446\n",
       "0.0     382\n",
       "Name: tenure, dtype: int64"
      ]
     },
     "execution_count": 6,
     "metadata": {},
     "output_type": "execute_result"
    }
   ],
   "source": [
    "data['tenure'].value_counts()"
   ]
  },
  {
   "cell_type": "markdown",
   "metadata": {},
   "source": [
    "Проведем смену типов текстовых данных на числовые данные в столбцах 'tenure', 'balance', 'estimatedsalary'. Для столбца 'tenure' проведем замену пропущенных данных на 0."
   ]
  },
  {
   "cell_type": "code",
   "execution_count": 7,
   "metadata": {},
   "outputs": [
    {
     "data": {
      "text/plain": [
       "creditscore          int64\n",
       "geography           object\n",
       "gender              object\n",
       "age                  int64\n",
       "tenure              uint16\n",
       "balance            float64\n",
       "numofproducts        int64\n",
       "hascrcard            int64\n",
       "isactivemember       int64\n",
       "estimatedsalary    float64\n",
       "exited               int64\n",
       "dtype: object"
      ]
     },
     "execution_count": 7,
     "metadata": {},
     "output_type": "execute_result"
    }
   ],
   "source": [
    "def n_type(st,ty):\n",
    "    data[st] = data[st].astype(ty)\n",
    "\n",
    "\n",
    "n_type('tenure','float')\n",
    "data['tenure'] = data['tenure'].fillna(0)\n",
    "n_type('tenure','uint16')\n",
    "n_type('balance','float')\n",
    "n_type('estimatedsalary','float')\n",
    "data.dtypes"
   ]
  },
  {
   "cell_type": "code",
   "execution_count": 8,
   "metadata": {},
   "outputs": [
    {
     "data": {
      "text/plain": [
       "France     5014\n",
       "Germany    2509\n",
       "Spain      2477\n",
       "Name: geography, dtype: int64"
      ]
     },
     "execution_count": 8,
     "metadata": {},
     "output_type": "execute_result"
    }
   ],
   "source": [
    "data['geography'].value_counts()"
   ]
  },
  {
   "cell_type": "code",
   "execution_count": 9,
   "metadata": {},
   "outputs": [
    {
     "data": {
      "text/plain": [
       "Male      5457\n",
       "Female    4543\n",
       "Name: gender, dtype: int64"
      ]
     },
     "execution_count": 9,
     "metadata": {},
     "output_type": "execute_result"
    }
   ],
   "source": [
    "data['gender'].value_counts()"
   ]
  },
  {
   "cell_type": "markdown",
   "metadata": {},
   "source": [
    "Проведем подготовку данных для избежания ловушки фиктивных признаков:"
   ]
  },
  {
   "cell_type": "code",
   "execution_count": 10,
   "metadata": {},
   "outputs": [
    {
     "data": {
      "text/plain": [
       "creditscore            int64\n",
       "age                    int64\n",
       "tenure                uint16\n",
       "balance              float64\n",
       "numofproducts          int64\n",
       "hascrcard              int64\n",
       "isactivemember         int64\n",
       "estimatedsalary      float64\n",
       "exited                 int64\n",
       "geography_Germany      uint8\n",
       "geography_Spain        uint8\n",
       "gender_Male            uint8\n",
       "dtype: object"
      ]
     },
     "execution_count": 10,
     "metadata": {},
     "output_type": "execute_result"
    }
   ],
   "source": [
    "data_ohe = pd.get_dummies(data, drop_first=True)\n",
    "data_ohe.dtypes"
   ]
  },
  {
   "cell_type": "code",
   "execution_count": 11,
   "metadata": {},
   "outputs": [
    {
     "data": {
      "text/plain": [
       "(10000, 12)"
      ]
     },
     "execution_count": 11,
     "metadata": {},
     "output_type": "execute_result"
    }
   ],
   "source": [
    "data_ohe.shape"
   ]
  },
  {
   "cell_type": "markdown",
   "metadata": {},
   "source": [
    "Проведем разделение признаков:"
   ]
  },
  {
   "cell_type": "code",
   "execution_count": 12,
   "metadata": {},
   "outputs": [],
   "source": [
    "features = data_ohe.drop(['exited'], axis=1)\n",
    "target = data_ohe['exited']"
   ]
  },
  {
   "cell_type": "markdown",
   "metadata": {},
   "source": [
    "Разобьем датасеты \"features\" и \"target\" на тренировочную выборку (60 % объектов) и проверочную выборку (40% объектов). Также разделим проверочную выборку **пополам** на \"валидационную\" и \"тестовую\"."
   ]
  },
  {
   "cell_type": "code",
   "execution_count": 13,
   "metadata": {},
   "outputs": [],
   "source": [
    "features_train, features_tes, target_train, target_tes = train_test_split(features, target, test_size=0.4, \n",
    "                                                                          train_size=0.6, random_state=12345)\n",
    "features_valid, features_test, target_valid, target_test = train_test_split(features_tes, target_tes, test_size=0.5, \n",
    "                                                                            train_size=0.5, random_state=12345)"
   ]
  },
  {
   "cell_type": "code",
   "execution_count": 14,
   "metadata": {},
   "outputs": [
    {
     "data": {
      "text/plain": [
       "(6000, 11)"
      ]
     },
     "metadata": {},
     "output_type": "display_data"
    },
    {
     "data": {
      "text/plain": [
       "(6000,)"
      ]
     },
     "metadata": {},
     "output_type": "display_data"
    },
    {
     "data": {
      "text/plain": [
       "(2000, 11)"
      ]
     },
     "metadata": {},
     "output_type": "display_data"
    },
    {
     "data": {
      "text/plain": [
       "(2000,)"
      ]
     },
     "metadata": {},
     "output_type": "display_data"
    },
    {
     "data": {
      "text/plain": [
       "(2000, 11)"
      ]
     },
     "metadata": {},
     "output_type": "display_data"
    },
    {
     "data": {
      "text/plain": [
       "(2000,)"
      ]
     },
     "metadata": {},
     "output_type": "display_data"
    }
   ],
   "source": [
    "display(features_train.shape)\n",
    "display(target_train.shape)\n",
    "display(features_valid.shape)\n",
    "display(target_valid.shape)\n",
    "display(features_test.shape)\n",
    "display(target_test.shape)"
   ]
  },
  {
   "cell_type": "code",
   "execution_count": 15,
   "metadata": {},
   "outputs": [
    {
     "data": {
      "text/html": [
       "<div>\n",
       "<style scoped>\n",
       "    .dataframe tbody tr th:only-of-type {\n",
       "        vertical-align: middle;\n",
       "    }\n",
       "\n",
       "    .dataframe tbody tr th {\n",
       "        vertical-align: top;\n",
       "    }\n",
       "\n",
       "    .dataframe thead th {\n",
       "        text-align: right;\n",
       "    }\n",
       "</style>\n",
       "<table border=\"1\" class=\"dataframe\">\n",
       "  <thead>\n",
       "    <tr style=\"text-align: right;\">\n",
       "      <th></th>\n",
       "      <th>creditscore</th>\n",
       "      <th>age</th>\n",
       "      <th>tenure</th>\n",
       "      <th>balance</th>\n",
       "      <th>numofproducts</th>\n",
       "      <th>hascrcard</th>\n",
       "      <th>isactivemember</th>\n",
       "      <th>estimatedsalary</th>\n",
       "      <th>geography_Germany</th>\n",
       "      <th>geography_Spain</th>\n",
       "      <th>gender_Male</th>\n",
       "    </tr>\n",
       "  </thead>\n",
       "  <tbody>\n",
       "    <tr>\n",
       "      <th>7479</th>\n",
       "      <td>567</td>\n",
       "      <td>35</td>\n",
       "      <td>8</td>\n",
       "      <td>153137.74</td>\n",
       "      <td>1</td>\n",
       "      <td>1</td>\n",
       "      <td>0</td>\n",
       "      <td>88659.07</td>\n",
       "      <td>0</td>\n",
       "      <td>1</td>\n",
       "      <td>1</td>\n",
       "    </tr>\n",
       "    <tr>\n",
       "      <th>3411</th>\n",
       "      <td>711</td>\n",
       "      <td>37</td>\n",
       "      <td>8</td>\n",
       "      <td>113899.92</td>\n",
       "      <td>1</td>\n",
       "      <td>0</td>\n",
       "      <td>0</td>\n",
       "      <td>80215.20</td>\n",
       "      <td>0</td>\n",
       "      <td>0</td>\n",
       "      <td>0</td>\n",
       "    </tr>\n",
       "    <tr>\n",
       "      <th>6027</th>\n",
       "      <td>850</td>\n",
       "      <td>44</td>\n",
       "      <td>3</td>\n",
       "      <td>140393.65</td>\n",
       "      <td>2</td>\n",
       "      <td>0</td>\n",
       "      <td>1</td>\n",
       "      <td>186285.52</td>\n",
       "      <td>1</td>\n",
       "      <td>0</td>\n",
       "      <td>1</td>\n",
       "    </tr>\n",
       "    <tr>\n",
       "      <th>1247</th>\n",
       "      <td>512</td>\n",
       "      <td>24</td>\n",
       "      <td>6</td>\n",
       "      <td>0.00</td>\n",
       "      <td>2</td>\n",
       "      <td>1</td>\n",
       "      <td>0</td>\n",
       "      <td>37654.31</td>\n",
       "      <td>0</td>\n",
       "      <td>0</td>\n",
       "      <td>1</td>\n",
       "    </tr>\n",
       "    <tr>\n",
       "      <th>3716</th>\n",
       "      <td>665</td>\n",
       "      <td>27</td>\n",
       "      <td>2</td>\n",
       "      <td>147435.96</td>\n",
       "      <td>1</td>\n",
       "      <td>0</td>\n",
       "      <td>0</td>\n",
       "      <td>187508.06</td>\n",
       "      <td>1</td>\n",
       "      <td>0</td>\n",
       "      <td>0</td>\n",
       "    </tr>\n",
       "  </tbody>\n",
       "</table>\n",
       "</div>"
      ],
      "text/plain": [
       "      creditscore  age  tenure    balance  numofproducts  hascrcard  \\\n",
       "7479          567   35       8  153137.74              1          1   \n",
       "3411          711   37       8  113899.92              1          0   \n",
       "6027          850   44       3  140393.65              2          0   \n",
       "1247          512   24       6       0.00              2          1   \n",
       "3716          665   27       2  147435.96              1          0   \n",
       "\n",
       "      isactivemember  estimatedsalary  geography_Germany  geography_Spain  \\\n",
       "7479               0         88659.07                  0                1   \n",
       "3411               0         80215.20                  0                0   \n",
       "6027               1        186285.52                  1                0   \n",
       "1247               0         37654.31                  0                0   \n",
       "3716               0        187508.06                  1                0   \n",
       "\n",
       "      gender_Male  \n",
       "7479            1  \n",
       "3411            0  \n",
       "6027            1  \n",
       "1247            1  \n",
       "3716            0  "
      ]
     },
     "execution_count": 15,
     "metadata": {},
     "output_type": "execute_result"
    }
   ],
   "source": [
    "features_train.head()"
   ]
  },
  {
   "cell_type": "markdown",
   "metadata": {},
   "source": [
    "Датасет представляет из себя набор числовых данных с разным форматом. Проведем масштабирование данных:"
   ]
  },
  {
   "cell_type": "code",
   "execution_count": 16,
   "metadata": {},
   "outputs": [],
   "source": [
    "numeric = ['creditscore', 'age', 'tenure', 'balance','estimatedsalary']\n",
    "pd.options.mode.chained_assignment = None"
   ]
  },
  {
   "cell_type": "code",
   "execution_count": 17,
   "metadata": {},
   "outputs": [],
   "source": [
    "scaler = StandardScaler()\n",
    "\n",
    "scaler.fit(features_train[numeric])\n",
    "features_train[numeric] = scaler.transform(features_train[numeric])\n",
    "\n",
    "features_valid[numeric] = scaler.transform(features_valid[numeric])\n",
    "\n",
    "features_test[numeric] = scaler.transform(features_test[numeric])"
   ]
  },
  {
   "cell_type": "code",
   "execution_count": 18,
   "metadata": {
    "scrolled": true
   },
   "outputs": [
    {
     "data": {
      "text/html": [
       "<div>\n",
       "<style scoped>\n",
       "    .dataframe tbody tr th:only-of-type {\n",
       "        vertical-align: middle;\n",
       "    }\n",
       "\n",
       "    .dataframe tbody tr th {\n",
       "        vertical-align: top;\n",
       "    }\n",
       "\n",
       "    .dataframe thead th {\n",
       "        text-align: right;\n",
       "    }\n",
       "</style>\n",
       "<table border=\"1\" class=\"dataframe\">\n",
       "  <thead>\n",
       "    <tr style=\"text-align: right;\">\n",
       "      <th></th>\n",
       "      <th>creditscore</th>\n",
       "      <th>age</th>\n",
       "      <th>tenure</th>\n",
       "      <th>balance</th>\n",
       "      <th>numofproducts</th>\n",
       "      <th>hascrcard</th>\n",
       "      <th>isactivemember</th>\n",
       "      <th>estimatedsalary</th>\n",
       "      <th>geography_Germany</th>\n",
       "      <th>geography_Spain</th>\n",
       "      <th>gender_Male</th>\n",
       "    </tr>\n",
       "  </thead>\n",
       "  <tbody>\n",
       "    <tr>\n",
       "      <th>7479</th>\n",
       "      <td>-0.886751</td>\n",
       "      <td>-0.373192</td>\n",
       "      <td>1.104696</td>\n",
       "      <td>1.232271</td>\n",
       "      <td>1</td>\n",
       "      <td>1</td>\n",
       "      <td>0</td>\n",
       "      <td>-0.187705</td>\n",
       "      <td>0</td>\n",
       "      <td>1</td>\n",
       "      <td>1</td>\n",
       "    </tr>\n",
       "    <tr>\n",
       "      <th>3411</th>\n",
       "      <td>0.608663</td>\n",
       "      <td>-0.183385</td>\n",
       "      <td>1.104696</td>\n",
       "      <td>0.600563</td>\n",
       "      <td>1</td>\n",
       "      <td>0</td>\n",
       "      <td>0</td>\n",
       "      <td>-0.333945</td>\n",
       "      <td>0</td>\n",
       "      <td>0</td>\n",
       "      <td>0</td>\n",
       "    </tr>\n",
       "    <tr>\n",
       "      <th>6027</th>\n",
       "      <td>2.052152</td>\n",
       "      <td>0.480939</td>\n",
       "      <td>-0.503694</td>\n",
       "      <td>1.027098</td>\n",
       "      <td>2</td>\n",
       "      <td>0</td>\n",
       "      <td>1</td>\n",
       "      <td>1.503095</td>\n",
       "      <td>1</td>\n",
       "      <td>0</td>\n",
       "      <td>1</td>\n",
       "    </tr>\n",
       "    <tr>\n",
       "      <th>1247</th>\n",
       "      <td>-1.457915</td>\n",
       "      <td>-1.417129</td>\n",
       "      <td>0.461340</td>\n",
       "      <td>-1.233163</td>\n",
       "      <td>2</td>\n",
       "      <td>1</td>\n",
       "      <td>0</td>\n",
       "      <td>-1.071061</td>\n",
       "      <td>0</td>\n",
       "      <td>0</td>\n",
       "      <td>1</td>\n",
       "    </tr>\n",
       "    <tr>\n",
       "      <th>3716</th>\n",
       "      <td>0.130961</td>\n",
       "      <td>-1.132419</td>\n",
       "      <td>-0.825373</td>\n",
       "      <td>1.140475</td>\n",
       "      <td>1</td>\n",
       "      <td>0</td>\n",
       "      <td>0</td>\n",
       "      <td>1.524268</td>\n",
       "      <td>1</td>\n",
       "      <td>0</td>\n",
       "      <td>0</td>\n",
       "    </tr>\n",
       "    <tr>\n",
       "      <th>8741</th>\n",
       "      <td>-0.315586</td>\n",
       "      <td>-1.512032</td>\n",
       "      <td>1.104696</td>\n",
       "      <td>-1.233163</td>\n",
       "      <td>2</td>\n",
       "      <td>1</td>\n",
       "      <td>1</td>\n",
       "      <td>0.552345</td>\n",
       "      <td>0</td>\n",
       "      <td>1</td>\n",
       "      <td>0</td>\n",
       "    </tr>\n",
       "    <tr>\n",
       "      <th>7461</th>\n",
       "      <td>-0.585591</td>\n",
       "      <td>-0.657902</td>\n",
       "      <td>-0.182016</td>\n",
       "      <td>-1.233163</td>\n",
       "      <td>2</td>\n",
       "      <td>0</td>\n",
       "      <td>1</td>\n",
       "      <td>0.814122</td>\n",
       "      <td>0</td>\n",
       "      <td>1</td>\n",
       "      <td>1</td>\n",
       "    </tr>\n",
       "    <tr>\n",
       "      <th>5106</th>\n",
       "      <td>-0.544052</td>\n",
       "      <td>-0.657902</td>\n",
       "      <td>-1.147051</td>\n",
       "      <td>0.031212</td>\n",
       "      <td>1</td>\n",
       "      <td>1</td>\n",
       "      <td>0</td>\n",
       "      <td>-0.608723</td>\n",
       "      <td>0</td>\n",
       "      <td>0</td>\n",
       "      <td>0</td>\n",
       "    </tr>\n",
       "    <tr>\n",
       "      <th>6130</th>\n",
       "      <td>-0.211738</td>\n",
       "      <td>-0.373192</td>\n",
       "      <td>-0.825373</td>\n",
       "      <td>1.190787</td>\n",
       "      <td>2</td>\n",
       "      <td>0</td>\n",
       "      <td>0</td>\n",
       "      <td>-0.602263</td>\n",
       "      <td>1</td>\n",
       "      <td>0</td>\n",
       "      <td>0</td>\n",
       "    </tr>\n",
       "    <tr>\n",
       "      <th>4955</th>\n",
       "      <td>1.273291</td>\n",
       "      <td>-0.562998</td>\n",
       "      <td>-1.468729</td>\n",
       "      <td>0.111168</td>\n",
       "      <td>2</td>\n",
       "      <td>1</td>\n",
       "      <td>0</td>\n",
       "      <td>0.508214</td>\n",
       "      <td>1</td>\n",
       "      <td>0</td>\n",
       "      <td>1</td>\n",
       "    </tr>\n",
       "    <tr>\n",
       "      <th>907</th>\n",
       "      <td>-1.416376</td>\n",
       "      <td>0.670745</td>\n",
       "      <td>-1.147051</td>\n",
       "      <td>0.456438</td>\n",
       "      <td>1</td>\n",
       "      <td>1</td>\n",
       "      <td>0</td>\n",
       "      <td>0.282164</td>\n",
       "      <td>0</td>\n",
       "      <td>0</td>\n",
       "      <td>0</td>\n",
       "    </tr>\n",
       "    <tr>\n",
       "      <th>3931</th>\n",
       "      <td>0.556739</td>\n",
       "      <td>-0.373192</td>\n",
       "      <td>1.104696</td>\n",
       "      <td>1.633063</td>\n",
       "      <td>1</td>\n",
       "      <td>0</td>\n",
       "      <td>1</td>\n",
       "      <td>-0.992651</td>\n",
       "      <td>0</td>\n",
       "      <td>0</td>\n",
       "      <td>0</td>\n",
       "    </tr>\n",
       "    <tr>\n",
       "      <th>7617</th>\n",
       "      <td>-1.561764</td>\n",
       "      <td>-0.562998</td>\n",
       "      <td>-1.468729</td>\n",
       "      <td>-1.233163</td>\n",
       "      <td>2</td>\n",
       "      <td>0</td>\n",
       "      <td>1</td>\n",
       "      <td>-1.652494</td>\n",
       "      <td>0</td>\n",
       "      <td>0</td>\n",
       "      <td>1</td>\n",
       "    </tr>\n",
       "    <tr>\n",
       "      <th>1147</th>\n",
       "      <td>-0.616745</td>\n",
       "      <td>-0.942612</td>\n",
       "      <td>0.139662</td>\n",
       "      <td>0.404374</td>\n",
       "      <td>3</td>\n",
       "      <td>1</td>\n",
       "      <td>0</td>\n",
       "      <td>0.607863</td>\n",
       "      <td>1</td>\n",
       "      <td>0</td>\n",
       "      <td>0</td>\n",
       "    </tr>\n",
       "    <tr>\n",
       "      <th>3421</th>\n",
       "      <td>-0.616745</td>\n",
       "      <td>0.006422</td>\n",
       "      <td>-1.468729</td>\n",
       "      <td>0.661819</td>\n",
       "      <td>1</td>\n",
       "      <td>1</td>\n",
       "      <td>0</td>\n",
       "      <td>1.704828</td>\n",
       "      <td>0</td>\n",
       "      <td>0</td>\n",
       "      <td>0</td>\n",
       "    </tr>\n",
       "    <tr>\n",
       "      <th>7469</th>\n",
       "      <td>0.349042</td>\n",
       "      <td>-0.373192</td>\n",
       "      <td>1.104696</td>\n",
       "      <td>0.464037</td>\n",
       "      <td>1</td>\n",
       "      <td>1</td>\n",
       "      <td>0</td>\n",
       "      <td>-1.110858</td>\n",
       "      <td>0</td>\n",
       "      <td>0</td>\n",
       "      <td>0</td>\n",
       "    </tr>\n",
       "    <tr>\n",
       "      <th>9465</th>\n",
       "      <td>1.896380</td>\n",
       "      <td>1.619779</td>\n",
       "      <td>-0.825373</td>\n",
       "      <td>-1.233163</td>\n",
       "      <td>2</td>\n",
       "      <td>1</td>\n",
       "      <td>1</td>\n",
       "      <td>-1.033551</td>\n",
       "      <td>0</td>\n",
       "      <td>0</td>\n",
       "      <td>0</td>\n",
       "    </tr>\n",
       "    <tr>\n",
       "      <th>2033</th>\n",
       "      <td>0.130961</td>\n",
       "      <td>0.196229</td>\n",
       "      <td>1.104696</td>\n",
       "      <td>-1.233163</td>\n",
       "      <td>2</td>\n",
       "      <td>1</td>\n",
       "      <td>0</td>\n",
       "      <td>0.565558</td>\n",
       "      <td>0</td>\n",
       "      <td>1</td>\n",
       "      <td>1</td>\n",
       "    </tr>\n",
       "    <tr>\n",
       "      <th>8400</th>\n",
       "      <td>1.283676</td>\n",
       "      <td>0.006422</td>\n",
       "      <td>1.104696</td>\n",
       "      <td>0.782674</td>\n",
       "      <td>2</td>\n",
       "      <td>1</td>\n",
       "      <td>0</td>\n",
       "      <td>0.779340</td>\n",
       "      <td>0</td>\n",
       "      <td>0</td>\n",
       "      <td>1</td>\n",
       "    </tr>\n",
       "    <tr>\n",
       "      <th>6478</th>\n",
       "      <td>2.052152</td>\n",
       "      <td>-0.373192</td>\n",
       "      <td>1.426375</td>\n",
       "      <td>0.409794</td>\n",
       "      <td>1</td>\n",
       "      <td>1</td>\n",
       "      <td>1</td>\n",
       "      <td>-1.657911</td>\n",
       "      <td>0</td>\n",
       "      <td>0</td>\n",
       "      <td>1</td>\n",
       "    </tr>\n",
       "  </tbody>\n",
       "</table>\n",
       "</div>"
      ],
      "text/plain": [
       "      creditscore       age    tenure   balance  numofproducts  hascrcard  \\\n",
       "7479    -0.886751 -0.373192  1.104696  1.232271              1          1   \n",
       "3411     0.608663 -0.183385  1.104696  0.600563              1          0   \n",
       "6027     2.052152  0.480939 -0.503694  1.027098              2          0   \n",
       "1247    -1.457915 -1.417129  0.461340 -1.233163              2          1   \n",
       "3716     0.130961 -1.132419 -0.825373  1.140475              1          0   \n",
       "8741    -0.315586 -1.512032  1.104696 -1.233163              2          1   \n",
       "7461    -0.585591 -0.657902 -0.182016 -1.233163              2          0   \n",
       "5106    -0.544052 -0.657902 -1.147051  0.031212              1          1   \n",
       "6130    -0.211738 -0.373192 -0.825373  1.190787              2          0   \n",
       "4955     1.273291 -0.562998 -1.468729  0.111168              2          1   \n",
       "907     -1.416376  0.670745 -1.147051  0.456438              1          1   \n",
       "3931     0.556739 -0.373192  1.104696  1.633063              1          0   \n",
       "7617    -1.561764 -0.562998 -1.468729 -1.233163              2          0   \n",
       "1147    -0.616745 -0.942612  0.139662  0.404374              3          1   \n",
       "3421    -0.616745  0.006422 -1.468729  0.661819              1          1   \n",
       "7469     0.349042 -0.373192  1.104696  0.464037              1          1   \n",
       "9465     1.896380  1.619779 -0.825373 -1.233163              2          1   \n",
       "2033     0.130961  0.196229  1.104696 -1.233163              2          1   \n",
       "8400     1.283676  0.006422  1.104696  0.782674              2          1   \n",
       "6478     2.052152 -0.373192  1.426375  0.409794              1          1   \n",
       "\n",
       "      isactivemember  estimatedsalary  geography_Germany  geography_Spain  \\\n",
       "7479               0        -0.187705                  0                1   \n",
       "3411               0        -0.333945                  0                0   \n",
       "6027               1         1.503095                  1                0   \n",
       "1247               0        -1.071061                  0                0   \n",
       "3716               0         1.524268                  1                0   \n",
       "8741               1         0.552345                  0                1   \n",
       "7461               1         0.814122                  0                1   \n",
       "5106               0        -0.608723                  0                0   \n",
       "6130               0        -0.602263                  1                0   \n",
       "4955               0         0.508214                  1                0   \n",
       "907                0         0.282164                  0                0   \n",
       "3931               1        -0.992651                  0                0   \n",
       "7617               1        -1.652494                  0                0   \n",
       "1147               0         0.607863                  1                0   \n",
       "3421               0         1.704828                  0                0   \n",
       "7469               0        -1.110858                  0                0   \n",
       "9465               1        -1.033551                  0                0   \n",
       "2033               0         0.565558                  0                1   \n",
       "8400               0         0.779340                  0                0   \n",
       "6478               1        -1.657911                  0                0   \n",
       "\n",
       "      gender_Male  \n",
       "7479            1  \n",
       "3411            0  \n",
       "6027            1  \n",
       "1247            1  \n",
       "3716            0  \n",
       "8741            0  \n",
       "7461            1  \n",
       "5106            0  \n",
       "6130            0  \n",
       "4955            1  \n",
       "907             0  \n",
       "3931            0  \n",
       "7617            1  \n",
       "1147            0  \n",
       "3421            0  \n",
       "7469            0  \n",
       "9465            0  \n",
       "2033            1  \n",
       "8400            1  \n",
       "6478            1  "
      ]
     },
     "execution_count": 18,
     "metadata": {},
     "output_type": "execute_result"
    }
   ],
   "source": [
    "features_train.head(20)"
   ]
  },
  {
   "cell_type": "markdown",
   "metadata": {},
   "source": [
    "### Вывод:"
   ]
  },
  {
   "cell_type": "markdown",
   "metadata": {},
   "source": [
    "1. Для избежания коллинеарности в данных убрали столбцы 'RowNumber' и 'CustomerId'. Также столбец 'Surname' не является признаком для определения целевого признака.\n",
    "2. Провели смену типов текстовых данных на числовые данные в столбцах 'tenure', 'balance', 'estimatedsalary'. Для столбца 'tenure' провели замену пропущенных данных на 0.\n",
    "3. Провели подготовку данных для избежания ловушки фиктивных признаков.\n",
    "4. Провели разделение признаков.\n",
    "5. Разбили датасет на 6 выборок, включающими признаки и целевой признак объекта, с тренировочными, валидационными и тестовыми выборками. В итоге, тренировочная выборка составила 60% исходного датасета, валидационная выборка составила 20% исходного датасета и тестовая выборка составила 20% исходного датасета.\n",
    "6. Провели масштабирование данных."
   ]
  },
  {
   "cell_type": "markdown",
   "metadata": {},
   "source": [
    "## Исследование задачи"
   ]
  },
  {
   "cell_type": "markdown",
   "metadata": {},
   "source": [
    "Исследуем баланс классов в данных:"
   ]
  },
  {
   "cell_type": "code",
   "execution_count": 19,
   "metadata": {},
   "outputs": [
    {
     "data": {
      "text/plain": [
       "0    0.800667\n",
       "1    0.199333\n",
       "Name: exited, dtype: float64"
      ]
     },
     "metadata": {},
     "output_type": "display_data"
    },
    {
     "data": {
      "image/png": "[encoded data removed]",
      "text/plain": [
       "<Figure size 432x288 with 1 Axes>"
      ]
     },
     "metadata": {
      "needs_background": "light"
     },
     "output_type": "display_data"
    }
   ],
   "source": [
    "class_freq = target_train.value_counts(normalize=True)\n",
    "display(class_freq)\n",
    "class_freq.plot(kind='bar')\n",
    "plt.show()"
   ]
  },
  {
   "cell_type": "markdown",
   "metadata": {},
   "source": [
    "Данные целевого признака сильно смещены в сторону значения '0'. 80 % - 0 против 20% - 1."
   ]
  },
  {
   "cell_type": "markdown",
   "metadata": {},
   "source": [
    "Изучим модель решающего дерева и выведем параметры и метрику F-1 наилучшей модели без учета баланса данных:"
   ]
  },
  {
   "cell_type": "code",
   "execution_count": 20,
   "metadata": {},
   "outputs": [
    {
     "data": {
      "text/plain": [
       "'Параметры наилучшей модели решающего дерева:'"
      ]
     },
     "metadata": {},
     "output_type": "display_data"
    },
    {
     "data": {
      "text/plain": [
       "DecisionTreeClassifier(max_depth=9, random_state=12345)"
      ]
     },
     "metadata": {},
     "output_type": "display_data"
    },
    {
     "data": {
      "text/plain": [
       "'Метрика F-1 наилучшей модели:'"
      ]
     },
     "metadata": {},
     "output_type": "display_data"
    },
    {
     "data": {
      "text/plain": [
       "0.5786516853932585"
      ]
     },
     "metadata": {},
     "output_type": "display_data"
    }
   ],
   "source": [
    "best_model_1 = None\n",
    "best_result = 0\n",
    "for depth in range(2,20,1):\n",
    "    for leaf in range(1,15,1):\n",
    "        model_1 = DecisionTreeClassifier(max_depth=depth, random_state=12345, min_samples_leaf=leaf)\n",
    "        model_1.fit(features_train, target_train)\n",
    "        predictions_valid = model_1.predict(features_valid)\n",
    "        result = f1_score(target_valid, predictions_valid)\n",
    "        if result > best_result:\n",
    "            best_model_1 = model_1\n",
    "            best_result = result\n",
    "display(\"Параметры наилучшей модели решающего дерева:\", best_model_1)\n",
    "display(\"Метрика F-1 наилучшей модели:\", best_result)"
   ]
  },
  {
   "cell_type": "code",
   "execution_count": 21,
   "metadata": {},
   "outputs": [
    {
     "data": {
      "text/plain": [
       "array([0.05462649, 0.32543929, 0.02286862, 0.11485542, 0.22430207,\n",
       "       0.00906426, 0.12321368, 0.04877762, 0.05588361, 0.00438261,\n",
       "       0.01658634])"
      ]
     },
     "metadata": {},
     "output_type": "display_data"
    },
    {
     "data": {
      "image/png": "[encoded data removed]",
      "text/plain": [
       "<Figure size 432x288 with 1 Axes>"
      ]
     },
     "metadata": {
      "needs_background": "light"
     },
     "output_type": "display_data"
    }
   ],
   "source": [
    "display(model_1.feature_importances_)\n",
    "plt.barh(features.columns, model_1.feature_importances_)\n",
    "plt.show()"
   ]
  },
  {
   "cell_type": "markdown",
   "metadata": {},
   "source": [
    "Изучим модель случайного леса и выведем параметры и метрику F-1 наилучшей модели без учета баланса данных:"
   ]
  },
  {
   "cell_type": "code",
   "execution_count": 22,
   "metadata": {
    "scrolled": true
   },
   "outputs": [
    {
     "data": {
      "text/plain": [
       "'Параметры наилучшей модели случайного леса:'"
      ]
     },
     "metadata": {},
     "output_type": "display_data"
    },
    {
     "data": {
      "text/plain": [
       "RandomForestClassifier(max_depth=19, n_estimators=27, random_state=12345)"
      ]
     },
     "metadata": {},
     "output_type": "display_data"
    },
    {
     "data": {
      "text/plain": [
       "'Метрика F-1 наилучшей модели:'"
      ]
     },
     "metadata": {},
     "output_type": "display_data"
    },
    {
     "data": {
      "text/plain": [
       "0.6052631578947368"
      ]
     },
     "metadata": {},
     "output_type": "display_data"
    },
    {
     "name": "stdout",
     "output_type": "stream",
     "text": [
      "Wall time: 3min 39s\n"
     ]
    }
   ],
   "source": [
    "%%time\n",
    "best_model_2 = None\n",
    "best_result = 0\n",
    "for est in range(1, 41, 1):\n",
    "    for depth in range(2, 20, 1):\n",
    "        model_2 = RandomForestClassifier(n_estimators=est, max_depth=depth, random_state=12345)\n",
    "        model_2.fit(features_train,target_train)\n",
    "        predicted_valid = model_2.predict(features_valid)\n",
    "        result = f1_score(target_valid, predicted_valid) \n",
    "        if result > best_result:\n",
    "            best_model_2 = model_2\n",
    "            best_result = result\n",
    "display(\"Параметры наилучшей модели случайного леса:\", best_model_2)\n",
    "display(\"Метрика F-1 наилучшей модели:\", best_result)"
   ]
  },
  {
   "cell_type": "code",
   "execution_count": 23,
   "metadata": {},
   "outputs": [
    {
     "data": {
      "text/plain": [
       "array([0.1417638 , 0.23710444, 0.08197105, 0.14086672, 0.12533199,\n",
       "       0.02030613, 0.04382117, 0.14203644, 0.03332829, 0.01282771,\n",
       "       0.02064226])"
      ]
     },
     "metadata": {},
     "output_type": "display_data"
    },
    {
     "data": {
      "image/png": "[encoded data removed]",
      "text/plain": [
       "<Figure size 432x288 with 1 Axes>"
      ]
     },
     "metadata": {
      "needs_background": "light"
     },
     "output_type": "display_data"
    }
   ],
   "source": [
    "display(model_2.feature_importances_)\n",
    "plt.barh(features.columns, model_2.feature_importances_)\n",
    "plt.show()"
   ]
  },
  {
   "cell_type": "markdown",
   "metadata": {},
   "source": [
    "Изучим модель логистической регрессии и выведем метрику F-1 без учета баланса данных:"
   ]
  },
  {
   "cell_type": "code",
   "execution_count": 24,
   "metadata": {},
   "outputs": [
    {
     "data": {
      "text/plain": [
       "'Метрика F-1 логистической регрессии:'"
      ]
     },
     "metadata": {},
     "output_type": "display_data"
    },
    {
     "data": {
      "text/plain": [
       "0.33389544688026984"
      ]
     },
     "metadata": {},
     "output_type": "display_data"
    }
   ],
   "source": [
    "warnings.filterwarnings(\"ignore\")\n",
    "model_3 = LogisticRegression(random_state=12345)\n",
    "model_3.fit(features_train, target_train)\n",
    "predictions_valid = model_3.predict(features_valid)\n",
    "result = f1_score(target_valid, predictions_valid)\n",
    "\n",
    "display(\"Метрика F-1 логистической регрессии:\", result)"
   ]
  },
  {
   "cell_type": "code",
   "execution_count": 25,
   "metadata": {},
   "outputs": [
    {
     "data": {
      "text/plain": [
       "Index(['creditscore', 'age', 'tenure', 'balance', 'numofproducts', 'hascrcard',\n",
       "       'isactivemember', 'estimatedsalary', 'geography_Germany',\n",
       "       'geography_Spain', 'gender_Male'],\n",
       "      dtype='object')"
      ]
     },
     "execution_count": 25,
     "metadata": {},
     "output_type": "execute_result"
    }
   ],
   "source": [
    "features.columns"
   ]
  },
  {
   "cell_type": "code",
   "execution_count": 26,
   "metadata": {},
   "outputs": [
    {
     "data": {
      "text/plain": [
       "array([[-0.08546321,  0.78569859, -0.05621322,  0.18100134, -0.02646664,\n",
       "        -0.21925249, -1.14883767,  0.03743385,  0.89243749,  0.13216217,\n",
       "        -0.5893071 ]])"
      ]
     },
     "metadata": {},
     "output_type": "display_data"
    },
    {
     "data": {
      "image/png": "[encoded data removed]",
      "text/plain": [
       "<Figure size 432x288 with 1 Axes>"
      ]
     },
     "metadata": {
      "needs_background": "light"
     },
     "output_type": "display_data"
    }
   ],
   "source": [
    "display(model_3.coef_)\n",
    "model_3.coef=pd.DataFrame(model_3.coef_)\n",
    "plt.barh(features.columns, model_3.coef.iloc[0,:])\n",
    "plt.show()"
   ]
  },
  {
   "cell_type": "markdown",
   "metadata": {},
   "source": [
    "### Вывод"
   ]
  },
  {
   "cell_type": "markdown",
   "metadata": {},
   "source": [
    "1. Провели исследование балансов данных. В данных целевого признака баланс сильно смещен в сторону значений 0 (80% против 20%).\n",
    "2. Провели исследование модели решающего дерева без учета баланса данных. Получили метрику F-1 наилучшей модели -0.57865.\n",
    "3. Провели исследование модели случайного леса без учета баланса данных. Получили метрику F-1 наилучшей модели - 0.60526.\n",
    "4. Провели исследование модели логистической регрессии без учета баланса данных. Получили метрику F-1 - 0,333895."
   ]
  },
  {
   "cell_type": "markdown",
   "metadata": {},
   "source": [
    "## Борьба с дисбалансом"
   ]
  },
  {
   "cell_type": "markdown",
   "metadata": {},
   "source": [
    "Проведем улучшение обучение моделей с учетом баланса классов."
   ]
  },
  {
   "cell_type": "markdown",
   "metadata": {},
   "source": [
    "1. Установим при обучении моделей параметр 'class_weight='balanced''"
   ]
  },
  {
   "cell_type": "markdown",
   "metadata": {},
   "source": [
    "Изучим модель логистической регрессии и выведем метрику F-1 с учетом баланса данных:"
   ]
  },
  {
   "cell_type": "code",
   "execution_count": 27,
   "metadata": {},
   "outputs": [
    {
     "data": {
      "text/plain": [
       "'Метрика F-1 логистической регрессии:'"
      ]
     },
     "metadata": {},
     "output_type": "display_data"
    },
    {
     "data": {
      "text/plain": [
       "0.4888888888888888"
      ]
     },
     "metadata": {},
     "output_type": "display_data"
    }
   ],
   "source": [
    "model_3 = LogisticRegression(random_state=12345, solver='liblinear', class_weight='balanced')\n",
    "model_3.fit(features_train, target_train)\n",
    "predictions_valid = model_3.predict(features_valid)\n",
    "result = f1_score(target_valid, predictions_valid)\n",
    "\n",
    "display(\"Метрика F-1 логистической регрессии:\", result)"
   ]
  },
  {
   "cell_type": "markdown",
   "metadata": {},
   "source": [
    "Изучим модель случайного леса и выведем параметры и метрику F-1 наилучшей модели с учетом баланса данных:"
   ]
  },
  {
   "cell_type": "code",
   "execution_count": 28,
   "metadata": {},
   "outputs": [
    {
     "data": {
      "text/plain": [
       "'Параметры наилучшей модели случайного леса:'"
      ]
     },
     "metadata": {},
     "output_type": "display_data"
    },
    {
     "data": {
      "text/plain": [
       "RandomForestClassifier(class_weight='balanced', max_depth=8, n_estimators=40,\n",
       "                       random_state=12345)"
      ]
     },
     "metadata": {},
     "output_type": "display_data"
    },
    {
     "data": {
      "text/plain": [
       "'Метрика F-1 наилучшей модели:'"
      ]
     },
     "metadata": {},
     "output_type": "display_data"
    },
    {
     "data": {
      "text/plain": [
       "0.6276595744680851"
      ]
     },
     "metadata": {},
     "output_type": "display_data"
    }
   ],
   "source": [
    "best_model_2 = None\n",
    "best_result = 0\n",
    "for est in range(1, 41, 1):\n",
    "    for depth in range(2, 20, 1):\n",
    "        model_2 = RandomForestClassifier(n_estimators=est, max_depth=depth, random_state=12345, class_weight='balanced')\n",
    "        model_2.fit(features_train,target_train)\n",
    "        predicted_valid = model_2.predict(features_valid)\n",
    "        result = f1_score(target_valid, predicted_valid) \n",
    "        if result > best_result:\n",
    "            best_model_2 = model_2\n",
    "            best_result = result \n",
    "display(\"Параметры наилучшей модели случайного леса:\", best_model_2)\n",
    "display(\"Метрика F-1 наилучшей модели:\", best_result)"
   ]
  },
  {
   "cell_type": "markdown",
   "metadata": {},
   "source": [
    "Изучим модель решающего дерева и выведем параметры и метрику F-1 наилучшей модели с учетом баланса данных:"
   ]
  },
  {
   "cell_type": "code",
   "execution_count": 29,
   "metadata": {},
   "outputs": [
    {
     "data": {
      "text/plain": [
       "'Параметры наилучшей модели решающего дерева:'"
      ]
     },
     "metadata": {},
     "output_type": "display_data"
    },
    {
     "data": {
      "text/plain": [
       "DecisionTreeClassifier(class_weight='balanced', max_depth=5,\n",
       "                       min_samples_leaf=10, random_state=12345)"
      ]
     },
     "metadata": {},
     "output_type": "display_data"
    },
    {
     "data": {
      "text/plain": [
       "'Метрика F-1 наилучшей модели:'"
      ]
     },
     "metadata": {},
     "output_type": "display_data"
    },
    {
     "data": {
      "text/plain": [
       "0.6010471204188481"
      ]
     },
     "metadata": {},
     "output_type": "display_data"
    }
   ],
   "source": [
    "best_model_1 = None\n",
    "best_result = 0\n",
    "for depth in range(2,20,1):\n",
    "    for leaf in range(1,15,1):\n",
    "        model_1 = DecisionTreeClassifier(max_depth=depth, random_state=12345, min_samples_leaf=leaf, class_weight='balanced')\n",
    "        model_1.fit(features_train, target_train)\n",
    "        predictions_valid = model_1.predict(features_valid)\n",
    "        result = f1_score(target_valid, predictions_valid)\n",
    "        if result > best_result:\n",
    "            best_model_1 = model_1\n",
    "            best_result = result\n",
    "display(\"Параметры наилучшей модели решающего дерева:\", best_model_1)\n",
    "display(\"Метрика F-1 наилучшей модели:\", best_result)"
   ]
  },
  {
   "cell_type": "markdown",
   "metadata": {},
   "source": [
    "2. Применим метод 'upsample', т. е. добавление данных к наименьшему класса, тем самым выравнивая баланс."
   ]
  },
  {
   "cell_type": "code",
   "execution_count": 30,
   "metadata": {},
   "outputs": [],
   "source": [
    "def upsample(features, target, repeat):\n",
    "    features_zeros = features[target == 0]\n",
    "    features_ones = features[target == 1]\n",
    "    target_zeros = target[target == 0]\n",
    "    target_ones = target[target == 1]\n",
    "\n",
    "    features_upsampled = pd.concat([features_zeros] + [features_ones] * repeat)\n",
    "    target_upsampled = pd.concat([target_zeros] + [target_ones] * repeat)\n",
    "    \n",
    "    features_upsampled, target_upsampled = shuffle(\n",
    "        features_upsampled, target_upsampled, random_state=12345)\n",
    "    \n",
    "    return features_upsampled, target_upsampled\n",
    "\n",
    "features_upsampled, target_upsampled = upsample(features_train, target_train, 10)"
   ]
  },
  {
   "cell_type": "markdown",
   "metadata": {},
   "source": [
    "Изучим модель логистической регрессии и выведем метрику F-1 с учетом баланса данных:"
   ]
  },
  {
   "cell_type": "code",
   "execution_count": 31,
   "metadata": {},
   "outputs": [
    {
     "data": {
      "text/plain": [
       "'Метрика F-1 логистической регрессии:'"
      ]
     },
     "metadata": {},
     "output_type": "display_data"
    },
    {
     "data": {
      "text/plain": [
       "0.419889502762431"
      ]
     },
     "metadata": {},
     "output_type": "display_data"
    }
   ],
   "source": [
    "model_3 = LogisticRegression(random_state=12345, solver='liblinear')\n",
    "model_3.fit(features_upsampled, target_upsampled)\n",
    "predictions_valid = model_3.predict(features_valid)\n",
    "result = f1_score(target_valid, predictions_valid)\n",
    "\n",
    "display(\"Метрика F-1 логистической регрессии:\", result)"
   ]
  },
  {
   "cell_type": "markdown",
   "metadata": {},
   "source": [
    "Изучим модель случайного леса и выведем параметры и метрику F-1 наилучшей модели с учетом баланса данных:"
   ]
  },
  {
   "cell_type": "code",
   "execution_count": 32,
   "metadata": {},
   "outputs": [
    {
     "data": {
      "text/plain": [
       "'Параметры наилучшей модели случайного леса:'"
      ]
     },
     "metadata": {},
     "output_type": "display_data"
    },
    {
     "data": {
      "text/plain": [
       "RandomForestClassifier(max_depth=16, n_estimators=28, random_state=12345)"
      ]
     },
     "metadata": {},
     "output_type": "display_data"
    },
    {
     "data": {
      "text/plain": [
       "'Метрика F-1 наилучшей модели:'"
      ]
     },
     "metadata": {},
     "output_type": "display_data"
    },
    {
     "data": {
      "text/plain": [
       "0.6106304079110012"
      ]
     },
     "metadata": {},
     "output_type": "display_data"
    }
   ],
   "source": [
    "best_model_2 = None\n",
    "best_result = 0\n",
    "for est in range(1, 41, 1):\n",
    "    for depth in range(2, 20, 1):\n",
    "        model_2 = RandomForestClassifier(n_estimators=est, max_depth=depth, random_state=12345)\n",
    "        model_2.fit(features_upsampled, target_upsampled)\n",
    "        predicted_valid = model_2.predict(features_valid)\n",
    "        result = f1_score(target_valid, predicted_valid) \n",
    "        if result > best_result:\n",
    "            best_model_2 = model_2\n",
    "            best_result = result\n",
    "display(\"Параметры наилучшей модели случайного леса:\", best_model_2)\n",
    "display(\"Метрика F-1 наилучшей модели:\", best_result)"
   ]
  },
  {
   "cell_type": "markdown",
   "metadata": {},
   "source": [
    "Изучим модель решающего дерева и выведем параметры и метрику F-1 наилучшей модели с учетом баланса данных:"
   ]
  },
  {
   "cell_type": "code",
   "execution_count": 33,
   "metadata": {},
   "outputs": [
    {
     "data": {
      "text/plain": [
       "'Параметры наилучшей модели решающего дерева:'"
      ]
     },
     "metadata": {},
     "output_type": "display_data"
    },
    {
     "data": {
      "text/plain": [
       "DecisionTreeClassifier(max_depth=17, min_samples_leaf=7, random_state=12345)"
      ]
     },
     "metadata": {},
     "output_type": "display_data"
    },
    {
     "data": {
      "text/plain": [
       "'Метрика F-1 наилучшей модели:'"
      ]
     },
     "metadata": {},
     "output_type": "display_data"
    },
    {
     "data": {
      "text/plain": [
       "0.534466477809254"
      ]
     },
     "metadata": {},
     "output_type": "display_data"
    }
   ],
   "source": [
    "best_model_1 = None\n",
    "best_result = 0\n",
    "for depth in range(2,20,1):\n",
    "    for leaf in range(1,15,1):\n",
    "        model_1 = DecisionTreeClassifier(max_depth=depth, random_state=12345, min_samples_leaf=leaf)\n",
    "        model_1.fit(features_upsampled, target_upsampled)\n",
    "        predictions_valid = model_1.predict(features_valid)\n",
    "        result = f1_score(target_valid, predictions_valid)\n",
    "        if result > best_result:\n",
    "            best_model_1 = model_1\n",
    "            best_result = result\n",
    "display(\"Параметры наилучшей модели решающего дерева:\", best_model_1)\n",
    "display(\"Метрика F-1 наилучшей модели:\", best_result)"
   ]
  },
  {
   "cell_type": "markdown",
   "metadata": {},
   "source": [
    "3. Применим метод 'downsample', т. е. убавление данных из большего класса, тем самым выравнивая баланс."
   ]
  },
  {
   "cell_type": "code",
   "execution_count": 34,
   "metadata": {},
   "outputs": [],
   "source": [
    "def downsample(features, target, fraction):\n",
    "    features_zeros = features[target == 0]\n",
    "    features_ones = features[target == 1]\n",
    "    target_zeros = target[target == 0]\n",
    "    target_ones = target[target == 1]\n",
    "\n",
    "    features_downsampled = pd.concat(\n",
    "        [features_zeros.sample(frac=fraction, random_state=12345)] + [features_ones])\n",
    "    target_downsampled = pd.concat(\n",
    "        [target_zeros.sample(frac=fraction, random_state=12345)] + [target_ones])\n",
    "    \n",
    "    features_downsampled, target_downsampled = shuffle(\n",
    "        features_downsampled, target_downsampled, random_state=12345)\n",
    "    \n",
    "    return features_downsampled, target_downsampled\n",
    "\n",
    "features_downsampled, target_downsampled = downsample(features_train, target_train, 0.1)"
   ]
  },
  {
   "cell_type": "markdown",
   "metadata": {},
   "source": [
    "Изучим модель логистической регрессии и выведем метрику F-1 с учетом баланса данных:"
   ]
  },
  {
   "cell_type": "code",
   "execution_count": 35,
   "metadata": {},
   "outputs": [
    {
     "data": {
      "text/plain": [
       "'Метрика F-1 логистической регрессии:'"
      ]
     },
     "metadata": {},
     "output_type": "display_data"
    },
    {
     "data": {
      "text/plain": [
       "0.4296212549462973"
      ]
     },
     "metadata": {},
     "output_type": "display_data"
    }
   ],
   "source": [
    "model_3 = LogisticRegression(random_state=12345, solver='liblinear')\n",
    "model_3.fit(features_downsampled, target_downsampled)\n",
    "predictions_valid = model_3.predict(features_valid)\n",
    "result = f1_score(target_valid, predictions_valid)\n",
    "\n",
    "display(\"Метрика F-1 логистической регрессии:\", result)"
   ]
  },
  {
   "cell_type": "markdown",
   "metadata": {},
   "source": [
    "Изучим модель случайного леса и выведем параметры и метрику F-1 наилучшей модели с учетом баланса данных:"
   ]
  },
  {
   "cell_type": "code",
   "execution_count": 36,
   "metadata": {},
   "outputs": [
    {
     "data": {
      "text/plain": [
       "'Параметры наилучшей модели случайного леса:'"
      ]
     },
     "metadata": {},
     "output_type": "display_data"
    },
    {
     "data": {
      "text/plain": [
       "RandomForestClassifier(max_depth=19, n_estimators=6, random_state=12345)"
      ]
     },
     "metadata": {},
     "output_type": "display_data"
    },
    {
     "data": {
      "text/plain": [
       "'Метрика F-1 наилучшей модели:'"
      ]
     },
     "metadata": {},
     "output_type": "display_data"
    },
    {
     "data": {
      "text/plain": [
       "0.49565217391304356"
      ]
     },
     "metadata": {},
     "output_type": "display_data"
    }
   ],
   "source": [
    "best_model_2 = None\n",
    "best_result = 0\n",
    "for est in range(1, 41, 1):\n",
    "    for depth in range(2, 20, 1):\n",
    "        model_2 = RandomForestClassifier(n_estimators=est, max_depth=depth, random_state=12345)\n",
    "        model_2.fit(features_downsampled, target_downsampled)\n",
    "        predicted_valid = model_2.predict(features_valid)\n",
    "        result = f1_score(target_valid, predicted_valid) \n",
    "        if result > best_result:\n",
    "            best_model_2 = model_2\n",
    "            best_result = result \n",
    "display(\"Параметры наилучшей модели случайного леса:\", best_model_2)\n",
    "display(\"Метрика F-1 наилучшей модели:\", best_result)"
   ]
  },
  {
   "cell_type": "markdown",
   "metadata": {},
   "source": [
    "Изучим модель решающего дерева и выведем параметры и метрику F-1 наилучшей модели с учетом баланса данных:"
   ]
  },
  {
   "cell_type": "code",
   "execution_count": 37,
   "metadata": {},
   "outputs": [
    {
     "data": {
      "text/plain": [
       "'Параметры наилучшей модели решающего дерева:'"
      ]
     },
     "metadata": {},
     "output_type": "display_data"
    },
    {
     "data": {
      "text/plain": [
       "DecisionTreeClassifier(max_depth=6, min_samples_leaf=12, random_state=12345)"
      ]
     },
     "metadata": {},
     "output_type": "display_data"
    },
    {
     "data": {
      "text/plain": [
       "'Метрика F-1 наилучшей модели:'"
      ]
     },
     "metadata": {},
     "output_type": "display_data"
    },
    {
     "data": {
      "text/plain": [
       "0.5084249084249084"
      ]
     },
     "metadata": {},
     "output_type": "display_data"
    }
   ],
   "source": [
    "best_model_1 = None\n",
    "best_result = 0\n",
    "for depth in range(2,20,1):\n",
    "    for leaf in range(1,15,1):\n",
    "        model_1 = DecisionTreeClassifier(max_depth=depth, random_state=12345, min_samples_leaf=leaf)\n",
    "        model_1.fit(features_downsampled, target_downsampled)\n",
    "        predictions_valid = model_1.predict(features_valid)\n",
    "        result = f1_score(target_valid, predictions_valid)\n",
    "        if result > best_result:\n",
    "            best_model_1 = model_1\n",
    "            best_result = result\n",
    "display(\"Параметры наилучшей модели решающего дерева:\", best_model_1)\n",
    "display(\"Метрика F-1 наилучшей модели:\", best_result)"
   ]
  },
  {
   "cell_type": "markdown",
   "metadata": {},
   "source": [
    "4. Исправим баланс путем изменения порога ('threshold'). Выведем метрики параметров F-1 и auc_roc (площадь под кривой ошибок).  "
   ]
  },
  {
   "cell_type": "markdown",
   "metadata": {},
   "source": [
    "Изучим модель логистической регрессии:"
   ]
  },
  {
   "cell_type": "code",
   "execution_count": 38,
   "metadata": {},
   "outputs": [
    {
     "data": {
      "text/plain": [
       "'Метрика F-1 наилучшей модели:'"
      ]
     },
     "metadata": {},
     "output_type": "display_data"
    },
    {
     "data": {
      "text/plain": [
       "0.5"
      ]
     },
     "metadata": {},
     "output_type": "display_data"
    },
    {
     "data": {
      "text/plain": [
       "\"Значение параметра 'threshold' наилучшей модели:\""
      ]
     },
     "metadata": {},
     "output_type": "display_data"
    },
    {
     "data": {
      "text/plain": [
       "0.26"
      ]
     },
     "metadata": {},
     "output_type": "display_data"
    },
    {
     "data": {
      "text/plain": [
       "\"Значение параметра 'auc_roc' наилучшей модели:\""
      ]
     },
     "metadata": {},
     "output_type": "display_data"
    },
    {
     "data": {
      "text/plain": [
       "0.7585879420998192"
      ]
     },
     "metadata": {},
     "output_type": "display_data"
    }
   ],
   "source": [
    "best_result = 0\n",
    "best_threshold = 0\n",
    "model_3 = LogisticRegression(random_state=12345, solver='liblinear')\n",
    "model_3.fit(features_train, target_train)\n",
    "probabilities_valid = model_3.predict_proba(features_valid)\n",
    "probabilities_one_valid = probabilities_valid[:, 1]\n",
    "\n",
    "for threshold in np.arange(0, 0.98, 0.02):\n",
    "    predicted_valid = model_3.predict(features_valid)\n",
    "    predicted_valid = probabilities_one_valid > threshold\n",
    "    f1 = f1_score(target_valid, predicted_valid)\n",
    "    auc_roc = roc_auc_score(target_valid, probabilities_one_valid)\n",
    "    if f1 > best_result:\n",
    "        best_result = f1\n",
    "        best_threshold = threshold\n",
    "display(\"Метрика F-1 наилучшей модели:\", best_result)\n",
    "display(\"Значение параметра 'threshold' наилучшей модели:\", best_threshold)\n",
    "display(\"Значение параметра 'auc_roc' наилучшей модели:\", auc_roc)"
   ]
  },
  {
   "cell_type": "markdown",
   "metadata": {},
   "source": [
    "Изучим модель решающего дерева:"
   ]
  },
  {
   "cell_type": "code",
   "execution_count": 39,
   "metadata": {
    "scrolled": true
   },
   "outputs": [
    {
     "data": {
      "text/plain": [
       "'Параметры наилучшей модели решающего дерева:'"
      ]
     },
     "metadata": {},
     "output_type": "display_data"
    },
    {
     "data": {
      "text/plain": [
       "DecisionTreeClassifier(max_depth=6, min_samples_leaf=12, random_state=12345)"
      ]
     },
     "metadata": {},
     "output_type": "display_data"
    },
    {
     "data": {
      "text/plain": [
       "'Метрика F-1 наилучшей модели:'"
      ]
     },
     "metadata": {},
     "output_type": "display_data"
    },
    {
     "data": {
      "text/plain": [
       "0.6100861008610087"
      ]
     },
     "metadata": {},
     "output_type": "display_data"
    },
    {
     "data": {
      "text/plain": [
       "\"Значение параметра 'threshold' наилучшей модели:\""
      ]
     },
     "metadata": {},
     "output_type": "display_data"
    },
    {
     "data": {
      "text/plain": [
       "0.26"
      ]
     },
     "metadata": {},
     "output_type": "display_data"
    },
    {
     "data": {
      "text/plain": [
       "\"Значение параметра 'auc_roc' наилучшей модели:\""
      ]
     },
     "metadata": {},
     "output_type": "display_data"
    },
    {
     "data": {
      "text/plain": [
       "0.8034307913790913"
      ]
     },
     "metadata": {},
     "output_type": "display_data"
    }
   ],
   "source": [
    "best_model = None\n",
    "best_result = 0\n",
    "best_threshold = 0\n",
    "for depth in range(3,20,1):\n",
    "    for leaf in range(1,15,1):\n",
    "        model_1 = DecisionTreeClassifier(max_depth=depth, random_state=12345, min_samples_leaf=leaf)\n",
    "        model_1.fit(features_train, target_train)\n",
    "        probabilities_valid = model_1.predict_proba(features_valid)\n",
    "        probabilities_one_valid = probabilities_valid[:, 1]\n",
    "        auc_roc = roc_auc_score(target_valid, probabilities_one_valid)\n",
    "        for threshold in np.arange(0, 0.98, 0.02):\n",
    "            predicted_valid = model_1.predict(features_valid)\n",
    "            predicted_valid = probabilities_one_valid > threshold\n",
    "            f1 = f1_score(target_valid, predicted_valid)\n",
    "            if f1 > best_result:\n",
    "                best_model = model_1\n",
    "                best_result = f1\n",
    "                best_threshold = threshold\n",
    "display(\"Параметры наилучшей модели решающего дерева:\", best_model_1)\n",
    "display(\"Метрика F-1 наилучшей модели:\", best_result)\n",
    "display(\"Значение параметра 'threshold' наилучшей модели:\", best_threshold)\n",
    "display(\"Значение параметра 'auc_roc' наилучшей модели:\", auc_roc)"
   ]
  },
  {
   "cell_type": "markdown",
   "metadata": {},
   "source": [
    "Изучим модель случайного леса:"
   ]
  },
  {
   "cell_type": "code",
   "execution_count": 40,
   "metadata": {
    "scrolled": true
   },
   "outputs": [
    {
     "data": {
      "text/plain": [
       "'Параметры наилучшей модели случайного леса:'"
      ]
     },
     "metadata": {},
     "output_type": "display_data"
    },
    {
     "data": {
      "text/plain": [
       "RandomForestClassifier(max_depth=4, n_estimators=1, random_state=12345)"
      ]
     },
     "metadata": {},
     "output_type": "display_data"
    },
    {
     "data": {
      "text/plain": [
       "'Метрика F-1 наилучшей модели:'"
      ]
     },
     "metadata": {},
     "output_type": "display_data"
    },
    {
     "data": {
      "text/plain": [
       "0.519036519036519"
      ]
     },
     "metadata": {},
     "output_type": "display_data"
    },
    {
     "data": {
      "text/plain": [
       "\"Значение параметра 'threshold' наилучшей модели:\""
      ]
     },
     "metadata": {},
     "output_type": "display_data"
    },
    {
     "data": {
      "text/plain": [
       "0.1"
      ]
     },
     "metadata": {},
     "output_type": "display_data"
    },
    {
     "data": {
      "text/plain": [
       "\"Значение параметра 'auc_roc' наилучшей модели:\""
      ]
     },
     "metadata": {},
     "output_type": "display_data"
    },
    {
     "data": {
      "text/plain": [
       "0.839012001040413"
      ]
     },
     "metadata": {},
     "output_type": "display_data"
    }
   ],
   "source": [
    "best_model_2 = None\n",
    "best_result = 0\n",
    "best_threshold = 0\n",
    "for est in range(1, 41, 1):\n",
    "    for depth in range(1, 20, 1):\n",
    "        model_2 = RandomForestClassifier(n_estimators=est, max_depth=depth, random_state=12345)\n",
    "        model_2.fit(features_train, target_train)\n",
    "        probabilities_valid = model_2.predict_proba(features_valid)\n",
    "        probabilities_one_valid = probabilities_valid[:, 1]\n",
    "        auc_roc = roc_auc_score(target_valid, probabilities_one_valid)\n",
    "        for threshold in np.arange(0, 0.68, 0.02):\n",
    "            predicted_valid = model_2.predict(features_valid)\n",
    "            predicted_valid = probabilities_one_valid > threshold\n",
    "            f1 = f1_score(target_valid, predicted_valid)\n",
    "            if result > best_result:\n",
    "                best_model_2 = model_2\n",
    "                best_result = f1\n",
    "                best_threshold = threshold \n",
    "display(\"Параметры наилучшей модели случайного леса:\", best_model_2)\n",
    "display(\"Метрика F-1 наилучшей модели:\", best_result)\n",
    "display(\"Значение параметра 'threshold' наилучшей модели:\", best_threshold)\n",
    "display(\"Значение параметра 'auc_roc' наилучшей модели:\", auc_roc)"
   ]
  },
  {
   "cell_type": "markdown",
   "metadata": {},
   "source": [
    "### Вывод"
   ]
  },
  {
   "cell_type": "markdown",
   "metadata": {},
   "source": [
    "Провели улучшение обучение моделей с учетом баланса классов:\n",
    "1. Установили при обучении моделей параметр 'class_weight='balanced'':\n",
    "  - Провели исследование модели решающего дерева. Получили метрику F-1 наилучшей модели - 0.60105.\n",
    "  - Провели исследование модели случайного леса. Получили метрику F-1 наилучшей модели - 0.62708.\n",
    "  - Провели исследование модели логистической регрессии. Получили метрику F-1 - 0,488889.\n",
    "2. Применили метод 'upsample', т. е. добавление данных к наименьшему класса, тем самым выравнивая баланс:\n",
    "  - Провели исследование модели решающего дерева. Получили метрику F-1 наилучшей модели - 0,53447.\n",
    "  - Провели исследование модели случайного леса. Получили метрику F-1 наилучшей модели - 0.61063.\n",
    "  - Провели исследование модели логистической регрессии. Получили метрику F-1 - 0,41989.\n",
    "3. Применили метод 'downsample', т. е. убавление данных из большего класса, тем самым выравнивая баланс:\n",
    "  - Провели исследование модели решающего дерева. Получили метрику F-1 наилучшей модели - 0.505425.\n",
    "  - Провели исследование модели случайного леса. Получили метрику F-1 наилучшей модели - 0.49565.\n",
    "  - Провели исследование модели логистической регрессии. Получили метрику F-1 - 0,42962.\n",
    "4. Исправим баланс путем изменения порога ('threshold'): Выведем метрики параметров F-1 и auc_roc (площадь под кривой ошибок).\n",
    "  - Провели исследование модели решающего дерева. Получили метрику F-1 наилучшей модели - 0.610086, auc_roc - 0.803431.\n",
    "  - Провели исследование модели случайного леса. Получили метрику F-1 наилучшей модели - 0.519037  , auc_roc - 0.839012.\n",
    "  - Провели исследование модели логистической регрессии. Получили метрику F-1 наилучшей модели - 0.5 , auc_roc - 0.758588."
   ]
  },
  {
   "cell_type": "markdown",
   "metadata": {},
   "source": [
    "## Тестирование модели"
   ]
  },
  {
   "cell_type": "markdown",
   "metadata": {},
   "source": [
    "Проведем тестирование модели с наибольшим параметром метрики F-1:"
   ]
  },
  {
   "cell_type": "code",
   "execution_count": 41,
   "metadata": {},
   "outputs": [
    {
     "data": {
      "text/plain": [
       "'Метрика F-1:'"
      ]
     },
     "metadata": {},
     "output_type": "display_data"
    },
    {
     "data": {
      "text/plain": [
       "0.6042553191489363"
      ]
     },
     "metadata": {},
     "output_type": "display_data"
    },
    {
     "data": {
      "text/plain": [
       "\"Значение параметра 'auc_roc':\""
      ]
     },
     "metadata": {},
     "output_type": "display_data"
    },
    {
     "data": {
      "text/plain": [
       "0.8547148654341142"
      ]
     },
     "metadata": {},
     "output_type": "display_data"
    }
   ],
   "source": [
    "model_2 = RandomForestClassifier(n_estimators=36, max_depth=10, random_state=12345, class_weight='balanced')\n",
    "model_2.fit(features_upsampled, target_upsampled)\n",
    "predicted_test = model_2.predict(features_test)\n",
    "result = f1_score(target_test, predicted_test)\n",
    "probabilities_valid = model_2.predict_proba(features_test)\n",
    "probabilities_one_valid = probabilities_valid[:, 1]\n",
    "auc_roc = roc_auc_score(target_test, probabilities_one_valid)\n",
    "\n",
    "display(\"Метрика F-1:\", result)\n",
    "display(\"Значение параметра 'auc_roc':\", auc_roc)"
   ]
  },
  {
   "cell_type": "markdown",
   "metadata": {},
   "source": [
    "## Вывод"
   ]
  },
  {
   "cell_type": "markdown",
   "metadata": {},
   "source": [
    "Провели обработку данных:\n",
    "1. Провели подготовку данных для избежания ловушки фиктивных признаков.\n",
    "2. Разбили датасет на 6 выборок, включающими признаки и целевой признак объекта, с тренировочными, валидационными и тестовыми выборками. В итоге, тренировочная выборка составила 60% исходного датасета, валидационная выборка составила 20% исходного датасета и тестовая выборка составила 20% исходного датасета.\n",
    "3. Провели масштабирование данных.\n",
    "\n",
    "Провели исследование балансов данных. \n",
    "1. В данных целевого признака баланс сильно смещен в сторону значений 0 (80% против 20%).\n",
    "2. Провели исследование модели решающего дерева без учета баланса данных. Получили метрику F-1 наилучшей модели -0.57865.\n",
    "3. Провели исследование модели случайного леса без учета баланса данных. Получили метрику F-1 наилучшей модели - 0.60526.\n",
    "4. Провели исследование модели логистической регрессии без учета баланса данных. Получили метрику F-1 - 0,333895.\n",
    "\n",
    "Провели улучшение обучение моделей с учетом баланса классов:\n",
    "1. Установили при обучении моделей параметр 'class_weight='balanced'':\n",
    "  - Провели исследование модели решающего дерева. Получили метрику F-1 наилучшей модели - 0.60105.\n",
    "  - Провели исследование модели случайного леса. Получили метрику F-1 наилучшей модели - 0.62708.\n",
    "  - Провели исследование модели логистической регрессии. Получили метрику F-1 - 0,488889.\n",
    "2. Применили метод 'upsample', т. е. добавление данных к наименьшему класса, тем самым выравнивая баланс:\n",
    "  - Провели исследование модели решающего дерева. Получили метрику F-1 наилучшей модели - 0,53447.\n",
    "  - Провели исследование модели случайного леса. Получили метрику F-1 наилучшей модели - 0.61063.\n",
    "  - Провели исследование модели логистической регрессии. Получили метрику F-1 - 0,41989.\n",
    "3. Применили метод 'downsample', т. е. убавление данных из большего класса, тем самым выравнивая баланс:\n",
    "  - Провели исследование модели решающего дерева. Получили метрику F-1 наилучшей модели - 0.505425.\n",
    "  - Провели исследование модели случайного леса. Получили метрику F-1 наилучшей модели - 0.49565.\n",
    "  - Провели исследование модели логистической регрессии. Получили метрику F-1 - 0,42962.\n",
    "4. Исправим баланс путем изменения порога ('threshold'): Выведем метрики параметров F-1 и auc_roc (площадь под кривой ошибок).\n",
    "  - Провели исследование модели решающего дерева. Получили метрику F-1 наилучшей модели - 0.610086, auc_roc - 0.803431.\n",
    "  - Провели исследование модели случайного леса. Получили метрику F-1 наилучшей модели - 0.519037  , auc_roc - 0.839012.\n",
    "  - Провели исследование модели логистической регрессии. Получили метрику F-1 наилучшей модели - 0.5 , auc_roc - 0.758588.\n",
    "\n",
    "Провели тестирование модели с наибольшим параметром метрики F-1. Получили следующие результаты: \n",
    "- метрика F-1: 0.61199\n",
    "- метрика auc_roc: 0.85531"
   ]
  },
  {
   "cell_type": "code",
   "execution_count": null,
   "metadata": {},
   "outputs": [],
   "source": []
  }
 ],
 "metadata": {
  "kernelspec": {
   "display_name": "Python 3",
   "language": "python",
   "name": "python3"
  },
  "language_info": {
   "codemirror_mode": {
    "name": "ipython",
    "version": 3
   },
   "file_extension": ".py",
   "mimetype": "text/x-python",
   "name": "python",
   "nbconvert_exporter": "python",
   "pygments_lexer": "ipython3",
   "version": "3.8.5"
  },
  "toc": {
   "base_numbering": 1,
   "nav_menu": {},
   "number_sections": true,
   "sideBar": true,
   "skip_h1_title": true,
   "title_cell": "Table of Contents",
   "title_sidebar": "Contents",
   "toc_cell": false,
   "toc_position": {},
   "toc_section_display": true,
   "toc_window_display": false
  }
 },
 "nbformat": 4,
 "nbformat_minor": 2
}
